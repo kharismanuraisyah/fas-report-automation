{
  "nbformat": 4,
  "nbformat_minor": 0,
  "metadata": {
    "colab": {
      "provenance": [],
      "toc_visible": true
    },
    "kernelspec": {
      "name": "python3",
      "display_name": "Python 3"
    },
    "language_info": {
      "name": "python"
    }
  },
  "cells": [
    {
      "cell_type": "markdown",
      "source": [
        "# IMPORT LIBRARY"
      ],
      "metadata": {
        "id": "saDiuTAYJxhf"
      }
    },
    {
      "cell_type": "code",
      "execution_count": null,
      "metadata": {
        "id": "Xdyf4rI6Mm8v"
      },
      "outputs": [],
      "source": [
        "import os\n",
        "import time\n",
        "import pandas as pd\n",
        "from datetime import datetime,timedelta\n",
        "start = datetime.now()\n",
        "from google.colab import drive\n",
        "drive.mount('/content/drive')\n",
        "\n",
        "!pip install xlsxwriter\n",
        "import xlsxwriter\n",
        "!pip install gspread==5.7.2\n",
        "import gspread\n",
        "from google.oauth2.service_account import Credentials\n",
        "\n",
        "creds = Credentials.from_service_account_file('your-credentials.json')\n",
        "gc = gspread.authorize(creds)\n",
        "\n"
      ]
    },
    {
      "cell_type": "markdown",
      "source": [
        "# Prepare Data\n",
        "Displays pull data's date and upload file metabase data FAS"
      ],
      "metadata": {
        "id": "5-WKA1b3J-Zp"
      }
    },
    {
      "cell_type": "code",
      "source": [
        "yesterday = datetime.today()-timedelta(days=1)+timedelta(hours=7)\n",
        "tanggal = ' '+yesterday.strftime('%d %B %Y')\n",
        "print('Tanggal kemarin:',tanggal)\n",
        "\n",
        "print()\n",
        "print()\n",
        "metabase = pd.read_csv('fas.csv',encoding='ISO-8859-1')\n",
        "df=metabase.copy()\n",
        "df"
      ],
      "metadata": {
        "id": "KE14RiHcQnzT"
      },
      "execution_count": null,
      "outputs": []
    },
    {
      "cell_type": "markdown",
      "source": [
        "# Cleaning Data Region"
      ],
      "metadata": {
        "id": "84pnR3X_KS4z"
      }
    },
    {
      "cell_type": "code",
      "source": [
        "#Grouping Region\n",
        "intimi = ['Bali','Nusa','Maluku','Papua']\n",
        "northern = ['Sumatera 1','Sumatera 3','Sumatera 4']\n",
        "southern = ['Sumatera 2','Sumatera 5','Sumatera 6']\n",
        "\n",
        "#Replace\n",
        "df.loc[df['dest_hub_region'].isin(intimi),'dest_hub_region'] = 'Intim'\n",
        "df.loc[df['dest_hub_region'].isin(northern),'dest_hub_region'] = 'Northern Sumatera'\n",
        "df.loc[df['dest_hub_region'].isin(southern),'dest_hub_region'] = 'Southern Sumatera'\n",
        "df['dest_hub_region'].unique()"
      ],
      "metadata": {
        "id": "WixtEAzAkExi"
      },
      "execution_count": null,
      "outputs": []
    },
    {
      "cell_type": "markdown",
      "source": [
        "# Export Excel per Region To Drive"
      ],
      "metadata": {
        "id": "bVcrvQpfKZWv"
      }
    },
    {
      "cell_type": "code",
      "source": [
        "################ EXPORT EXCEL #####################################\n",
        "\n",
        "\n",
        "for i in df['dest_hub_region'].unique():\n",
        "    pd.options.mode.chained_assignment = None\n",
        "    filenames  = 'RawData FAS '+i+ ' '+ tanggal +'.xlsx'\n",
        "    df_i = df[df['dest_hub_region']==i]\n",
        "\n",
        "    with pd.ExcelWriter('/content/drive/MyDrive/FAS/'+ filenames) as writer:\n",
        "        # raw data\n",
        "        df_i.to_excel(writer, sheet_name= 'Raw Data',startrow= 1, index=False, header=False)\n",
        "        workbook_raw  = writer.book\n",
        "        worksheet = writer.sheets['Raw Data']\n",
        "        header_format_raw = workbook_raw.add_format({'bold': True,'fg_color': 'yellow','border': 1,'align':'center','valign':'vcenter'})\n",
        "          # biar header di tiap tabel berwarna\n",
        "        worksheet_raw = writer.sheets['Raw Data']\n",
        "        for col_num, value in enumerate(df_i.columns.values):\n",
        "          #write to second row\n",
        "          worksheet_raw.write(0, col_num, value, header_format_raw)\n",
        "          column_len = df_i[value].astype(str).str.len().max()\n",
        "          column_len = max(column_len, len(value))\n",
        "          worksheet_raw.set_column(col_num, col_num, column_len)\n",
        "\n",
        "        print(i, 'DONE to excel')"
      ],
      "metadata": {
        "id": "rBVSYweiRIkl"
      },
      "execution_count": null,
      "outputs": []
    },
    {
      "cell_type": "markdown",
      "source": [
        "# Pivotable FAS\n",
        "menampilkan kolom FAS dimana jika first valid delivery = delivery_success, maka flag Hit, sedangkan jika tidak sama maka flag Miss dan eksekusi pivot"
      ],
      "metadata": {
        "id": "DMXxN0f9Kjnz"
      }
    },
    {
      "cell_type": "code",
      "source": [
        "df_pivot=df.copy()\n",
        "df_pivot.loc[df['first_valid_delivery_attempt_datetime'] == df['delivery_success_datetime'],'FAS?'] = \"1\"\n",
        "df_pivot.loc[df['first_valid_delivery_attempt_datetime'] != df['delivery_success_datetime'],'FAS?'] = \"0\"\n",
        "\n",
        "\n",
        "pivot_data = pd.pivot_table(df_pivot, values='tracking_id', index=['dest_hub_name','dest_hub_region'], columns='FAS?', aggfunc='count')\n",
        "pivot_data.columns.name = None\n",
        "pivot_data.reset_index(inplace=True)\n",
        "pivot_data.fillna(0, inplace=True)\n",
        "pivot_data['Grand_Total'] = pivot_data.sum(axis=1)\n",
        "pivot_data.rename(columns = {'dest_hub_name':'Dest Hub Name','dest_hub_region':'Region Grup',\n",
        "                             '0':'Miss','1':'Hit','Grand_Total':'Grand Total'}, inplace = True)\n",
        "pivot_data.value_counts()"
      ],
      "metadata": {
        "id": "RE4_3sfsRS5e"
      },
      "execution_count": null,
      "outputs": []
    },
    {
      "cell_type": "markdown",
      "source": [
        "# Update Data & Process Excel"
      ],
      "metadata": {
        "id": "CLEQQNrBAQie"
      }
    },
    {
      "cell_type": "code",
      "source": [
        "print('>> Updating Sheet <<')\n",
        "\n",
        "ws = gc.open_by_url('your_gsheet_url').worksheet('Raw FAS')\n",
        "\n",
        "data_metabase_new = pivot_data.reindex(columns = pivot_data.columns)\n",
        "ws.batch_clear([\"A:E\"])\n",
        "ws.update('A1',[data_metabase_new.columns.values.tolist()] + data_metabase_new.values.tolist(), raw=False)\n",
        "\n",
        "print('DONE to Sheet')\n",
        "print()\n",
        "\n",
        "\n",
        "print('>> Ekstracting Excel <<')\n",
        "\n",
        "with pd.ExcelWriter('/content/drive/MyDrive/FAS/ALL RAWDATA FAS ' +tanggal+'.xlsx') as writer:\n",
        "        # raw data\n",
        "        df_pivot.to_excel(writer, sheet_name= 'Raw Data',startrow= 1, index=False, header=False)\n",
        "        workbook_raw  = writer.book\n",
        "        worksheet = writer.sheets['Raw Data']\n",
        "        header_format_raw = workbook_raw.add_format({'bold': True,'fg_color': 'yellow','border': 1,'align':'center','valign':'vcenter'})\n",
        "          # biar header di tiap tabel berwarna\n",
        "        worksheet_raw = writer.sheets['Raw Data']\n",
        "        for col_num, value in enumerate(df_pivot.columns.values):\n",
        "          #write to second row\n",
        "          worksheet_raw.write(0, col_num, value, header_format_raw)\n",
        "          column_len = df_pivot[value].astype(str).str.len().max()\n",
        "          column_len = max(column_len, len(value))\n",
        "          worksheet_raw.set_column(col_num, col_num, column_len)\n",
        "\n",
        "        pivot_data.to_excel(writer, sheet_name= 'Pivot',startrow= 1, index=False, header=False)\n",
        "        workbook_raw  = writer.book\n",
        "        worksheet = writer.sheets['Pivot']\n",
        "        header_format_raw = workbook_raw.add_format({'bold': True,'fg_color': 'red','border': 1,'align':'center','valign':'vcenter'})\n",
        "          # biar header di tiap tabel berwarna\n",
        "        worksheet_raw = writer.sheets['Pivot']\n",
        "        for col_num, value in enumerate(pivot_data.columns.values):\n",
        "          #write to second row\n",
        "          worksheet_raw.write(0, col_num, value, header_format_raw)\n",
        "          column_len = pivot_data[value].astype(str).str.len().max()\n",
        "          # column_len = max(column_len, len(value))\n",
        "          worksheet_raw.set_column(col_num, col_num, column_len)\n",
        "print('DONE to excel')"
      ],
      "metadata": {
        "id": "aUbMBBGOE9TL"
      },
      "execution_count": null,
      "outputs": []
    },
    {
      "cell_type": "code",
      "source": [
        "# DONE\n",
        "\n",
        "#selesai\n",
        "end = datetime.now()\n",
        "code_runtime = (end - start).total_seconds()/60\n",
        "print(\"elapsed_time = \",code_runtime,'minutes')"
      ],
      "metadata": {
        "id": "zQfiWl-DVbc_"
      },
      "execution_count": null,
      "outputs": []
    }
  ]
}